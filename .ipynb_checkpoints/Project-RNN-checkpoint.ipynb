{
 "cells": [
  {
   "cell_type": "code",
   "execution_count": 61,
   "metadata": {},
   "outputs": [],
   "source": [
    "import numpy as np\n",
    "\n",
    "from torchtext import data\n",
    "from torchtext import datasets\n",
    "from torchtext.vocab import Vectors, GloVe\n",
    "\n",
    "import torch\n",
    "from torch.autograd import Variable\n",
    "import torch.nn as nn\n",
    "import torch.optim as optim\n",
    "from torch.nn import Linear, RNN, LSTM\n",
    "from torch.nn.functional import softmax, relu\n",
    "\n",
    "from sklearn.manifold import TSNE\n",
    "import h5py"
   ]
  },
  {
   "cell_type": "code",
   "execution_count": 62,
   "metadata": {},
   "outputs": [],
   "source": [
    "# Load data\n",
    "with h5py.File('C:/Users/jovog/OneDrive/Documents/50000_dataset.hdf5', 'r') as hf:\n",
    "    data = hf['data'][:]\n",
    "    label = hf['label'][:]\n",
    "data[:,1] += 1\n",
    "label[:] += 1"
   ]
  },
  {
   "cell_type": "code",
   "execution_count": 63,
   "metadata": {},
   "outputs": [],
   "source": [
    "seq = [] #Initalize\n",
    "lab = []\n",
    "current_user = -1\n",
    "for i in range(data.shape[0]): # going through the data and sorting into user sequences\n",
    "    if data[i,0]!=current_user:\n",
    "        current_user = data[i,0]\n",
    "        seq.append([data[i,1]])\n",
    "        lab.append([label[i]])        \n",
    "    else:\n",
    "        seq[-1].append(data[i,1]) # new user line\n",
    "        lab[-1].append(label[i])\n",
    "        \n",
    "seq.sort(key=lambda x:len(x))\n",
    "lab.sort(key=lambda x:len(x))\n",
    "seq_length = [len(x) for x in seq]"
   ]
  },
  {
   "cell_type": "code",
   "execution_count": 64,
   "metadata": {},
   "outputs": [
    {
     "name": "stdout",
     "output_type": "stream",
     "text": [
      "Net(\n",
      "  (one_hot): Embedding(17770, 17770)\n",
      "  (rnn): LSTM(17770, 100, batch_first=True)\n",
      "  (l_out): Linear(in_features=100, out_features=17770, bias=False)\n",
      ")\n"
     ]
    }
   ],
   "source": [
    "# Define network\n",
    "output_size = 17770\n",
    "num_input = 17770\n",
    "hidden_size = 100\n",
    "\n",
    "class Net(nn.Module):\n",
    "    def __init__(self):\n",
    "        super(Net, self).__init__()\n",
    "        \n",
    "        self.one_hot = nn.Embedding(num_input, num_input)\n",
    "        self.one_hot.weight.data = torch.eye(num_input)\n",
    "        self.one_hot.weight.detach_()\n",
    "        self.rnn = LSTM(input_size=num_input,\n",
    "                        hidden_size=100,\n",
    "                        num_layers=1,\n",
    "                        bidirectional=False,\n",
    "                        batch_first = True)\n",
    "        self.l_out = Linear(in_features=hidden_size,\n",
    "                            out_features=output_size,\n",
    "                            bias=False)\n",
    "    \n",
    "    def forward(self, x):\n",
    "        out = {}\n",
    "        x = self.one_hot(x)\n",
    "        \n",
    "        x, hn = self.rnn(x)\n",
    "        \n",
    "        out = softmax(self.l_out(x), dim=2)\n",
    "        return out\n",
    "    \n",
    "    def MyLoss(self, Y_hat, Y):\n",
    "        \n",
    "        Y = self.one_hot(Y)\n",
    "        \n",
    "        Y = Y.view(-1,output_size)\n",
    "        \n",
    "        Y_hat = Y_hat.view(-1, output_size)\n",
    "        \n",
    "        # create a mask by filtering out all tokens that ARE NOT the padding token\n",
    "        mask = (Y > 0).float()\n",
    "        print(mask.size())\n",
    "        # count how many tokens we have\n",
    "        #nb_tokens = int(torch.sum(mask).data[0])\n",
    "\n",
    "        # pick the values for the label and zero out the rest with the mask\n",
    "        Y_hat = Y_hat * mask\n",
    "        \n",
    "        return loss\n",
    "net = Net()\n",
    "print(net)"
   ]
  },
  {
   "cell_type": "code",
   "execution_count": 65,
   "metadata": {},
   "outputs": [
    {
     "data": {
      "text/plain": [
       "{'one_hot.weight': False,\n",
       " 'rnn.weight_ih_l0': True,\n",
       " 'rnn.weight_hh_l0': True,\n",
       " 'rnn.bias_ih_l0': True,\n",
       " 'rnn.bias_hh_l0': True,\n",
       " 'l_out.weight': True}"
      ]
     },
     "execution_count": 65,
     "metadata": {},
     "output_type": "execute_result"
    }
   ],
   "source": [
    "{p[0]: p[1].requires_grad for p in net.named_parameters()}"
   ]
  },
  {
   "cell_type": "code",
   "execution_count": 66,
   "metadata": {},
   "outputs": [],
   "source": [
    "optimizer = optim.Adam(net.parameters(), lr=0.01)"
   ]
  },
  {
   "cell_type": "code",
   "execution_count": 67,
   "metadata": {},
   "outputs": [
    {
     "name": "stdout",
     "output_type": "stream",
     "text": [
      "tensor([ 6134,   550,  1073,  1144,  1145,  1307,  1659,  1798,  2152,  3427,\n",
      "         3610,  3736,  4520,  9144,  5293,  5317,  5496,  6073,  6263,  6287,\n",
      "         6692,  6972,  7234,  9340,  9635,  9658, 10255, 11149, 12299, 12317,\n",
      "        12435, 12470, 12672, 12911, 13651, 14149, 14233, 14313, 14367, 15124,\n",
      "        15205, 15582, 16128, 16242, 16377, 16384, 16954, 17057, 17324,  5862,\n",
      "        10906,  5730, 16357, 16469,   406,  1719,  2495,  3138,  3418,  3433,\n",
      "         3825,  3936,  4389,  4745,  4883,  5239,  5327,  5939,  6497,  7240,\n",
      "         7280,  7624,  8636,  9617, 10170, 10231, 10397, 10625, 11040, 11812,\n",
      "        11837, 12092, 12232, 12494, 13255, 13462, 13524, 14660, 14718, 15151,\n",
      "        15393, 15887, 16339, 17149, 17293])\n",
      "tensor([  550,  1073,  1144,  1145,  1307,  1659,  1798,  2152,  3427,  3610,\n",
      "         3736,  4520,  9144,  5293,  5317,  5496,  6073,  6263,  6287,  6692,\n",
      "         6972,  7234,  9340,  9635,  9658, 10255, 11149, 12299, 12317, 12435,\n",
      "        12470, 12672, 12911, 13651, 14149, 14233, 14313, 14367, 15124, 15205,\n",
      "        15582, 16128, 16242, 16377, 16384, 16954, 17057, 17324,  5862, 10906,\n",
      "         5730, 16357, 16469,   406,  1719,  2495,  3138,  3418,  3433,  3825,\n",
      "         3936,  4389,  4745,  4883,  5239,  5327,  5939,  6497,  7240,  7280,\n",
      "         7624,  8636,  9617, 10170, 10231, 10397, 10625, 11040, 11812, 11837,\n",
      "        12092, 12232, 12494, 13255, 13462, 13524, 14660, 14718, 15151, 15393,\n",
      "        15887, 16339, 17149, 17293,  7370])\n"
     ]
    }
   ],
   "source": [
    "# Train and validation loop\n",
    "batch_size = 10\n",
    "net.train()\n",
    "for i in np.random.choice(len(seq)//batch_size,len(seq)//batch_size, replace=False):\n",
    "    batch = seq[i*batch_size:(i+1)*batch_size]\n",
    "    batch_length = seq_length[i*batch_size:(i+1)*batch_size]\n",
    "    batch_label = lab[i*batch_size:(i+1)*batch_size]\n",
    "    \n",
    "    # Zero padding of the batch\n",
    "    max_len_batch = max(batch_length)\n",
    "    batch_padded = np.zeros((batch_size,max_len_batch))\n",
    "    padded_label = np.zeros((batch_size,max_len_batch))\n",
    "    for j in range(batch_size):\n",
    "        batch_padded[j,0:batch_length[j]] = batch[j]\n",
    "        padded_label[j,0:batch_length[j]] = batch_label[j]\n",
    "    batch_padded = torch.from_numpy(batch_padded).long()\n",
    "    padded_label = torch.from_numpy(padded_label).long()\n",
    "    output = net(batch_padded)\n",
    "    batch_loss = net.MyLoss(output,padded_label)\n",
    "    optimizer.zero_grad()\n",
    "    batch_loss.backward()\n",
    "    optimizer.step()"
   ]
  },
  {
   "cell_type": "code",
   "execution_count": 26,
   "metadata": {},
   "outputs": [
    {
     "name": "stdout",
     "output_type": "stream",
     "text": [
      "tensor([[[0.0001, 0.0001, 0.0001,  ..., 0.0001, 0.0001, 0.0001],\n",
      "         [0.0001, 0.0001, 0.0001,  ..., 0.0001, 0.0001, 0.0001],\n",
      "         [0.0001, 0.0001, 0.0001,  ..., 0.0001, 0.0001, 0.0001],\n",
      "         ...,\n",
      "         [0.0001, 0.0001, 0.0001,  ..., 0.0001, 0.0001, 0.0001],\n",
      "         [0.0001, 0.0001, 0.0001,  ..., 0.0001, 0.0001, 0.0001],\n",
      "         [0.0001, 0.0001, 0.0001,  ..., 0.0001, 0.0001, 0.0001]],\n",
      "\n",
      "        [[0.0001, 0.0001, 0.0001,  ..., 0.0001, 0.0001, 0.0001],\n",
      "         [0.0001, 0.0001, 0.0001,  ..., 0.0001, 0.0001, 0.0001],\n",
      "         [0.0001, 0.0001, 0.0001,  ..., 0.0001, 0.0001, 0.0001],\n",
      "         ...,\n",
      "         [0.0001, 0.0001, 0.0001,  ..., 0.0001, 0.0001, 0.0001],\n",
      "         [0.0001, 0.0001, 0.0001,  ..., 0.0001, 0.0001, 0.0001],\n",
      "         [0.0001, 0.0001, 0.0001,  ..., 0.0001, 0.0001, 0.0001]],\n",
      "\n",
      "        [[0.0001, 0.0001, 0.0001,  ..., 0.0001, 0.0001, 0.0001],\n",
      "         [0.0001, 0.0001, 0.0001,  ..., 0.0001, 0.0001, 0.0001],\n",
      "         [0.0001, 0.0001, 0.0001,  ..., 0.0001, 0.0001, 0.0001],\n",
      "         ...,\n",
      "         [0.0001, 0.0001, 0.0001,  ..., 0.0001, 0.0001, 0.0001],\n",
      "         [0.0001, 0.0001, 0.0001,  ..., 0.0001, 0.0001, 0.0001],\n",
      "         [0.0001, 0.0001, 0.0001,  ..., 0.0001, 0.0001, 0.0001]],\n",
      "\n",
      "        ...,\n",
      "\n",
      "        [[0.0001, 0.0001, 0.0001,  ..., 0.0001, 0.0001, 0.0001],\n",
      "         [0.0001, 0.0001, 0.0001,  ..., 0.0001, 0.0001, 0.0001],\n",
      "         [0.0001, 0.0001, 0.0001,  ..., 0.0001, 0.0001, 0.0001],\n",
      "         ...,\n",
      "         [0.0001, 0.0001, 0.0001,  ..., 0.0001, 0.0001, 0.0001],\n",
      "         [0.0001, 0.0001, 0.0001,  ..., 0.0001, 0.0001, 0.0001],\n",
      "         [0.0001, 0.0001, 0.0001,  ..., 0.0001, 0.0001, 0.0001]],\n",
      "\n",
      "        [[0.0001, 0.0001, 0.0001,  ..., 0.0001, 0.0001, 0.0001],\n",
      "         [0.0001, 0.0001, 0.0001,  ..., 0.0001, 0.0001, 0.0001],\n",
      "         [0.0001, 0.0001, 0.0001,  ..., 0.0001, 0.0001, 0.0001],\n",
      "         ...,\n",
      "         [0.0001, 0.0001, 0.0001,  ..., 0.0001, 0.0001, 0.0001],\n",
      "         [0.0001, 0.0001, 0.0001,  ..., 0.0001, 0.0001, 0.0001],\n",
      "         [0.0001, 0.0001, 0.0001,  ..., 0.0001, 0.0001, 0.0001]],\n",
      "\n",
      "        [[0.0001, 0.0001, 0.0001,  ..., 0.0001, 0.0001, 0.0001],\n",
      "         [0.0001, 0.0001, 0.0001,  ..., 0.0001, 0.0001, 0.0001],\n",
      "         [0.0001, 0.0001, 0.0001,  ..., 0.0001, 0.0001, 0.0001],\n",
      "         ...,\n",
      "         [0.0001, 0.0001, 0.0001,  ..., 0.0001, 0.0001, 0.0001],\n",
      "         [0.0001, 0.0001, 0.0001,  ..., 0.0001, 0.0001, 0.0001],\n",
      "         [0.0001, 0.0001, 0.0001,  ..., 0.0001, 0.0001, 0.0001]]],\n",
      "       grad_fn=<SoftmaxBackward>)\n"
     ]
    }
   ],
   "source": [
    "print(output)"
   ]
  },
  {
   "cell_type": "code",
   "execution_count": null,
   "metadata": {},
   "outputs": [],
   "source": []
  }
 ],
 "metadata": {
  "kernelspec": {
   "display_name": "Python 3",
   "language": "python",
   "name": "python3"
  },
  "language_info": {
   "codemirror_mode": {
    "name": "ipython",
    "version": 3
   },
   "file_extension": ".py",
   "mimetype": "text/x-python",
   "name": "python",
   "nbconvert_exporter": "python",
   "pygments_lexer": "ipython3",
   "version": "3.6.3"
  }
 },
 "nbformat": 4,
 "nbformat_minor": 2
}
